{
  "nbformat": 4,
  "nbformat_minor": 0,
  "metadata": {
    "kernelspec": {
      "display_name": "Python 3",
      "language": "python",
      "name": "python3"
    },
    "language_info": {
      "codemirror_mode": {
        "name": "ipython",
        "version": 3
      },
      "file_extension": ".py",
      "mimetype": "text/x-python",
      "name": "python",
      "nbconvert_exporter": "python",
      "pygments_lexer": "ipython3",
      "version": "3.7.4"
    },
    "colab": {
      "name": "exercícios_anatel_mg.ipynb",
      "provenance": [],
      "toc_visible": true
    }
  },
  "cells": [
    {
      "cell_type": "markdown",
      "metadata": {
        "id": "MtUbqBGUkn6O",
        "colab_type": "text"
      },
      "source": [
        "![anatel](img/anatel_logo.png \"Logo Anatel\")\n",
        "\n",
        "# Análise de Dados da Anatel em Minas Gerais (2006 - 2019)"
      ]
    },
    {
      "cell_type": "markdown",
      "metadata": {
        "id": "ZTFGm291kn6Q",
        "colab_type": "text"
      },
      "source": [
        "A Agência Nacional de Telecomunicaçõe ([Anatel](https://www.anatel.gov.br/institucional/)) foi criada em 16 de julho de 1997 com o objetivo de regular o setor de telecomunicações para contribuir com o desenvolvimento do Brasil. Neste estudo iremos explorar o conjunto de dados das **Reclamações Registradas na Anatel** no estado de Minas Gerais durante os anos de 2006 até 2019. Os dados foram baixaados do  website [Dados Abertos](http://www.dados.gov.br/dataset/solicitacoesregistradasnaanatel) e o [Dicionário de Dados Oficial](data/Reclamações_Glossário_e_Metadados.pdf) está disponível na pasta: [`data/Reclamações_Glossário_e_Metadados.pdf`](data/Reclamações_Glossário_e_Metadados.pdf)."
      ]
    },
    {
      "cell_type": "markdown",
      "metadata": {
        "id": "nQ_NZkXJkn6R",
        "colab_type": "text"
      },
      "source": [
        "## Exercícios\n",
        "Faça as questões abaixo usando somente a biblioteca [pandas](https://pandas.pydata.org/)."
      ]
    },
    {
      "cell_type": "markdown",
      "metadata": {
        "id": "xgQ8imw7kn6R",
        "colab_type": "text"
      },
      "source": [
        "1. Importe o pacote **pandas** como o nome pd."
      ]
    },
    {
      "cell_type": "code",
      "metadata": {
        "id": "HmYYvshlkn6S",
        "colab_type": "code",
        "colab": {}
      },
      "source": [
        "import numpy as np\n",
        "import pandas as pd"
      ],
      "execution_count": 1,
      "outputs": []
    },
    {
      "cell_type": "markdown",
      "metadata": {
        "id": "1aDdsDx_kn6W",
        "colab_type": "text"
      },
      "source": [
        "2. Carregue em memória o conjunto de dados disponível na pasta [`data/anatel_mg_2006_2019.csv`](data/anatel_mg_2006_2019.csv) para uma variável chamada **df**."
      ]
    },
    {
      "cell_type": "code",
      "metadata": {
        "id": "Yuafvnehkn6W",
        "colab_type": "code",
        "colab": {}
      },
      "source": [
        "df = pd.read_csv('anatel_mg_2006_2019.csv')"
      ],
      "execution_count": 4,
      "outputs": []
    },
    {
      "cell_type": "markdown",
      "metadata": {
        "id": "_TzhZTkskn6Z",
        "colab_type": "text"
      },
      "source": [
        "3. Quantas linhas e quantas colunas foram carregadas em memória?"
      ]
    },
    {
      "cell_type": "code",
      "metadata": {
        "id": "aXEXL6Z9kn6a",
        "colab_type": "code",
        "colab": {
          "base_uri": "https://localhost:8080/",
          "height": 34
        },
        "outputId": "cef43619-c9b1-489e-e589-33a5ed4da226"
      },
      "source": [
        "len(df)\n"
      ],
      "execution_count": 5,
      "outputs": [
        {
          "output_type": "execute_result",
          "data": {
            "text/plain": [
              "509706"
            ]
          },
          "metadata": {
            "tags": []
          },
          "execution_count": 5
        }
      ]
    },
    {
      "cell_type": "markdown",
      "metadata": {
        "id": "OqDebB8Qkn6d",
        "colab_type": "text"
      },
      "source": [
        "4. Mostre as 5 primeiras linhas do *dataset*."
      ]
    },
    {
      "cell_type": "code",
      "metadata": {
        "id": "mzMVUAu-kn6d",
        "colab_type": "code",
        "colab": {
          "base_uri": "https://localhost:8080/",
          "height": 360
        },
        "outputId": "191839ea-6fc2-4d9d-f2ab-0e7f088daf9d"
      },
      "source": [
        "df.head()\n"
      ],
      "execution_count": 6,
      "outputs": [
        {
          "output_type": "execute_result",
          "data": {
            "text/html": [
              "<div>\n",
              "<style scoped>\n",
              "    .dataframe tbody tr th:only-of-type {\n",
              "        vertical-align: middle;\n",
              "    }\n",
              "\n",
              "    .dataframe tbody tr th {\n",
              "        vertical-align: top;\n",
              "    }\n",
              "\n",
              "    .dataframe thead th {\n",
              "        text-align: right;\n",
              "    }\n",
              "</style>\n",
              "<table border=\"1\" class=\"dataframe\">\n",
              "  <thead>\n",
              "    <tr style=\"text-align: right;\">\n",
              "      <th></th>\n",
              "      <th>DataExtracao</th>\n",
              "      <th>Ano</th>\n",
              "      <th>Mes</th>\n",
              "      <th>CanalEntrada</th>\n",
              "      <th>Condicao</th>\n",
              "      <th>GrupoEconNorm</th>\n",
              "      <th>Tipo</th>\n",
              "      <th>Servico</th>\n",
              "      <th>Modalidade</th>\n",
              "      <th>Motivo</th>\n",
              "      <th>UF</th>\n",
              "      <th>QtdeSolic</th>\n",
              "    </tr>\n",
              "  </thead>\n",
              "  <tbody>\n",
              "    <tr>\n",
              "      <th>0</th>\n",
              "      <td>2016-04-28</td>\n",
              "      <td>2006</td>\n",
              "      <td>1</td>\n",
              "      <td>Atendimento Pessoal</td>\n",
              "      <td>Nova</td>\n",
              "      <td>Anatel</td>\n",
              "      <td>Denúncia</td>\n",
              "      <td>Radiodifusão (Rádio e TV)</td>\n",
              "      <td>Rádio FM</td>\n",
              "      <td>Interferência</td>\n",
              "      <td>MG</td>\n",
              "      <td>3</td>\n",
              "    </tr>\n",
              "    <tr>\n",
              "      <th>1</th>\n",
              "      <td>2016-04-28</td>\n",
              "      <td>2006</td>\n",
              "      <td>1</td>\n",
              "      <td>Atendimento Pessoal</td>\n",
              "      <td>Nova</td>\n",
              "      <td>Anatel</td>\n",
              "      <td>Denúncia</td>\n",
              "      <td>Radiodifusão (Rádio e TV)</td>\n",
              "      <td>Rádio FM</td>\n",
              "      <td>Outorga</td>\n",
              "      <td>MG</td>\n",
              "      <td>8</td>\n",
              "    </tr>\n",
              "    <tr>\n",
              "      <th>2</th>\n",
              "      <td>2016-04-28</td>\n",
              "      <td>2006</td>\n",
              "      <td>1</td>\n",
              "      <td>Atendimento Pessoal</td>\n",
              "      <td>Nova</td>\n",
              "      <td>NET</td>\n",
              "      <td>Reclamação</td>\n",
              "      <td>Serviço Telefônico Fixo Comutado - STFC</td>\n",
              "      <td>Local</td>\n",
              "      <td>Cobrança</td>\n",
              "      <td>MG</td>\n",
              "      <td>1</td>\n",
              "    </tr>\n",
              "    <tr>\n",
              "      <th>3</th>\n",
              "      <td>2016-04-28</td>\n",
              "      <td>2006</td>\n",
              "      <td>1</td>\n",
              "      <td>Atendimento Pessoal</td>\n",
              "      <td>Nova</td>\n",
              "      <td>OI</td>\n",
              "      <td>Reclamação</td>\n",
              "      <td>Móvel Pessoal</td>\n",
              "      <td>Pós-Pago</td>\n",
              "      <td>Serviços Adicionais</td>\n",
              "      <td>MG</td>\n",
              "      <td>1</td>\n",
              "    </tr>\n",
              "    <tr>\n",
              "      <th>4</th>\n",
              "      <td>2016-04-28</td>\n",
              "      <td>2006</td>\n",
              "      <td>1</td>\n",
              "      <td>Atendimento Pessoal</td>\n",
              "      <td>Nova</td>\n",
              "      <td>Outros</td>\n",
              "      <td>Reclamação</td>\n",
              "      <td>Móvel Pessoal</td>\n",
              "      <td>Pós-Pago</td>\n",
              "      <td>Clonagem</td>\n",
              "      <td>MG</td>\n",
              "      <td>1</td>\n",
              "    </tr>\n",
              "  </tbody>\n",
              "</table>\n",
              "</div>"
            ],
            "text/plain": [
              "  DataExtracao   Ano  Mes  ...               Motivo  UF QtdeSolic\n",
              "0   2016-04-28  2006    1  ...        Interferência  MG         3\n",
              "1   2016-04-28  2006    1  ...              Outorga  MG         8\n",
              "2   2016-04-28  2006    1  ...             Cobrança  MG         1\n",
              "3   2016-04-28  2006    1  ...  Serviços Adicionais  MG         1\n",
              "4   2016-04-28  2006    1  ...             Clonagem  MG         1\n",
              "\n",
              "[5 rows x 12 columns]"
            ]
          },
          "metadata": {
            "tags": []
          },
          "execution_count": 6
        }
      ]
    },
    {
      "cell_type": "markdown",
      "metadata": {
        "id": "pX6Ktw1fkn6h",
        "colab_type": "text"
      },
      "source": [
        "5.  Quais são os tipos de dados de cada uma das colunas?"
      ]
    },
    {
      "cell_type": "code",
      "metadata": {
        "id": "B3sHu9Ddkn6i",
        "colab_type": "code",
        "colab": {
          "base_uri": "https://localhost:8080/",
          "height": 340
        },
        "outputId": "f6228c16-0277-40d4-ec5c-88f0822dd587"
      },
      "source": [
        "df.info()\n"
      ],
      "execution_count": 7,
      "outputs": [
        {
          "output_type": "stream",
          "text": [
            "<class 'pandas.core.frame.DataFrame'>\n",
            "RangeIndex: 509706 entries, 0 to 509705\n",
            "Data columns (total 12 columns):\n",
            " #   Column         Non-Null Count   Dtype \n",
            "---  ------         --------------   ----- \n",
            " 0   DataExtracao   509706 non-null  object\n",
            " 1   Ano            509706 non-null  int64 \n",
            " 2   Mes            509706 non-null  int64 \n",
            " 3   CanalEntrada   509706 non-null  object\n",
            " 4   Condicao       509706 non-null  object\n",
            " 5   GrupoEconNorm  509404 non-null  object\n",
            " 6   Tipo           509706 non-null  object\n",
            " 7   Servico        509706 non-null  object\n",
            " 8   Modalidade     509706 non-null  object\n",
            " 9   Motivo         509706 non-null  object\n",
            " 10  UF             509706 non-null  object\n",
            " 11  QtdeSolic      509706 non-null  int64 \n",
            "dtypes: int64(3), object(9)\n",
            "memory usage: 46.7+ MB\n"
          ],
          "name": "stdout"
        }
      ]
    },
    {
      "cell_type": "markdown",
      "metadata": {
        "id": "SNiYq2uLkn6l",
        "colab_type": "text"
      },
      "source": [
        "6. Mostre a quantidade de colunas para cada um dos tipos de dados."
      ]
    },
    {
      "cell_type": "code",
      "metadata": {
        "id": "SoXUD17skn6m",
        "colab_type": "code",
        "colab": {
          "base_uri": "https://localhost:8080/",
          "height": 297
        },
        "outputId": "89f63d51-1939-40f9-8811-dcd0da6a185b"
      },
      "source": [
        "df.describe()\n"
      ],
      "execution_count": 8,
      "outputs": [
        {
          "output_type": "execute_result",
          "data": {
            "text/html": [
              "<div>\n",
              "<style scoped>\n",
              "    .dataframe tbody tr th:only-of-type {\n",
              "        vertical-align: middle;\n",
              "    }\n",
              "\n",
              "    .dataframe tbody tr th {\n",
              "        vertical-align: top;\n",
              "    }\n",
              "\n",
              "    .dataframe thead th {\n",
              "        text-align: right;\n",
              "    }\n",
              "</style>\n",
              "<table border=\"1\" class=\"dataframe\">\n",
              "  <thead>\n",
              "    <tr style=\"text-align: right;\">\n",
              "      <th></th>\n",
              "      <th>Ano</th>\n",
              "      <th>Mes</th>\n",
              "      <th>QtdeSolic</th>\n",
              "    </tr>\n",
              "  </thead>\n",
              "  <tbody>\n",
              "    <tr>\n",
              "      <th>count</th>\n",
              "      <td>509706.000000</td>\n",
              "      <td>509706.000000</td>\n",
              "      <td>509706.000000</td>\n",
              "    </tr>\n",
              "    <tr>\n",
              "      <th>mean</th>\n",
              "      <td>2014.852788</td>\n",
              "      <td>6.317014</td>\n",
              "      <td>8.469714</td>\n",
              "    </tr>\n",
              "    <tr>\n",
              "      <th>std</th>\n",
              "      <td>3.443596</td>\n",
              "      <td>3.395123</td>\n",
              "      <td>44.456639</td>\n",
              "    </tr>\n",
              "    <tr>\n",
              "      <th>min</th>\n",
              "      <td>2006.000000</td>\n",
              "      <td>1.000000</td>\n",
              "      <td>1.000000</td>\n",
              "    </tr>\n",
              "    <tr>\n",
              "      <th>25%</th>\n",
              "      <td>2013.000000</td>\n",
              "      <td>3.000000</td>\n",
              "      <td>1.000000</td>\n",
              "    </tr>\n",
              "    <tr>\n",
              "      <th>50%</th>\n",
              "      <td>2016.000000</td>\n",
              "      <td>6.000000</td>\n",
              "      <td>2.000000</td>\n",
              "    </tr>\n",
              "    <tr>\n",
              "      <th>75%</th>\n",
              "      <td>2017.000000</td>\n",
              "      <td>9.000000</td>\n",
              "      <td>5.000000</td>\n",
              "    </tr>\n",
              "    <tr>\n",
              "      <th>max</th>\n",
              "      <td>2019.000000</td>\n",
              "      <td>12.000000</td>\n",
              "      <td>4164.000000</td>\n",
              "    </tr>\n",
              "  </tbody>\n",
              "</table>\n",
              "</div>"
            ],
            "text/plain": [
              "                 Ano            Mes      QtdeSolic\n",
              "count  509706.000000  509706.000000  509706.000000\n",
              "mean     2014.852788       6.317014       8.469714\n",
              "std         3.443596       3.395123      44.456639\n",
              "min      2006.000000       1.000000       1.000000\n",
              "25%      2013.000000       3.000000       1.000000\n",
              "50%      2016.000000       6.000000       2.000000\n",
              "75%      2017.000000       9.000000       5.000000\n",
              "max      2019.000000      12.000000    4164.000000"
            ]
          },
          "metadata": {
            "tags": []
          },
          "execution_count": 8
        }
      ]
    },
    {
      "cell_type": "markdown",
      "metadata": {
        "id": "6ApK6UG4kn6p",
        "colab_type": "text"
      },
      "source": [
        "7. Mostre as informações básicas do DataFrame."
      ]
    },
    {
      "cell_type": "code",
      "metadata": {
        "id": "m18641Q6kn6p",
        "colab_type": "code",
        "colab": {
          "base_uri": "https://localhost:8080/",
          "height": 340
        },
        "outputId": "212f1c79-e759-4e30-88f1-6da7d3d483e4"
      },
      "source": [
        "df.info()\n"
      ],
      "execution_count": 9,
      "outputs": [
        {
          "output_type": "stream",
          "text": [
            "<class 'pandas.core.frame.DataFrame'>\n",
            "RangeIndex: 509706 entries, 0 to 509705\n",
            "Data columns (total 12 columns):\n",
            " #   Column         Non-Null Count   Dtype \n",
            "---  ------         --------------   ----- \n",
            " 0   DataExtracao   509706 non-null  object\n",
            " 1   Ano            509706 non-null  int64 \n",
            " 2   Mes            509706 non-null  int64 \n",
            " 3   CanalEntrada   509706 non-null  object\n",
            " 4   Condicao       509706 non-null  object\n",
            " 5   GrupoEconNorm  509404 non-null  object\n",
            " 6   Tipo           509706 non-null  object\n",
            " 7   Servico        509706 non-null  object\n",
            " 8   Modalidade     509706 non-null  object\n",
            " 9   Motivo         509706 non-null  object\n",
            " 10  UF             509706 non-null  object\n",
            " 11  QtdeSolic      509706 non-null  int64 \n",
            "dtypes: int64(3), object(9)\n",
            "memory usage: 46.7+ MB\n"
          ],
          "name": "stdout"
        }
      ]
    },
    {
      "cell_type": "markdown",
      "metadata": {
        "id": "hgD2bjmrkn6s",
        "colab_type": "text"
      },
      "source": [
        "8. Verifique se existem dados ausentes (*misssing data*) no conjunto de dados."
      ]
    },
    {
      "cell_type": "code",
      "metadata": {
        "id": "Pen6eOzhkn6s",
        "colab_type": "code",
        "colab": {
          "base_uri": "https://localhost:8080/",
          "height": 34
        },
        "outputId": "e7d234ec-965d-4f4f-8275-662f90bc91b8"
      },
      "source": [
        "df.isnull().values.any()\n"
      ],
      "execution_count": 10,
      "outputs": [
        {
          "output_type": "execute_result",
          "data": {
            "text/plain": [
              "True"
            ]
          },
          "metadata": {
            "tags": []
          },
          "execution_count": 10
        }
      ]
    },
    {
      "cell_type": "markdown",
      "metadata": {
        "id": "Zazc0Mgokn6v",
        "colab_type": "text"
      },
      "source": [
        "9. Qual é o número total de dados ausentes?"
      ]
    },
    {
      "cell_type": "code",
      "metadata": {
        "id": "rZ1Bt5J2kn6v",
        "colab_type": "code",
        "colab": {
          "base_uri": "https://localhost:8080/",
          "height": 34
        },
        "outputId": "6ba49282-213c-4664-eb14-d2b762eec32e"
      },
      "source": [
        "df.isnull().sum().sum()\n"
      ],
      "execution_count": 11,
      "outputs": [
        {
          "output_type": "execute_result",
          "data": {
            "text/plain": [
              "302"
            ]
          },
          "metadata": {
            "tags": []
          },
          "execution_count": 11
        }
      ]
    },
    {
      "cell_type": "markdown",
      "metadata": {
        "id": "o4YDFWfUkn6z",
        "colab_type": "text"
      },
      "source": [
        "10. Qual é o número total de dados ausentes por coluna? "
      ]
    },
    {
      "cell_type": "code",
      "metadata": {
        "id": "HfH_1jZBkn6z",
        "colab_type": "code",
        "colab": {
          "base_uri": "https://localhost:8080/",
          "height": 238
        },
        "outputId": "0fdea147-9239-4153-f787-39a52b22e8fb"
      },
      "source": [
        "df.isnull().sum()\n"
      ],
      "execution_count": 12,
      "outputs": [
        {
          "output_type": "execute_result",
          "data": {
            "text/plain": [
              "DataExtracao       0\n",
              "Ano                0\n",
              "Mes                0\n",
              "CanalEntrada       0\n",
              "Condicao           0\n",
              "GrupoEconNorm    302\n",
              "Tipo               0\n",
              "Servico            0\n",
              "Modalidade         0\n",
              "Motivo             0\n",
              "UF                 0\n",
              "QtdeSolic          0\n",
              "dtype: int64"
            ]
          },
          "metadata": {
            "tags": []
          },
          "execution_count": 12
        }
      ]
    },
    {
      "cell_type": "markdown",
      "metadata": {
        "id": "JsmtIjtCkn62",
        "colab_type": "text"
      },
      "source": [
        "11. Remova todos os dados ausentes encontrados."
      ]
    },
    {
      "cell_type": "code",
      "metadata": {
        "id": "Plfu2bqfkn62",
        "colab_type": "code",
        "colab": {}
      },
      "source": [
        "df = df.dropna(subset=['GrupoEconNorm'])\n"
      ],
      "execution_count": 13,
      "outputs": []
    },
    {
      "cell_type": "markdown",
      "metadata": {
        "id": "NUHR_FAPkn65",
        "colab_type": "text"
      },
      "source": [
        "12. Selecione o serviço que possui o maior número de solicitações `QtdeSolic` na Anatel."
      ]
    },
    {
      "cell_type": "code",
      "metadata": {
        "id": "XtHLrIa-kn65",
        "colab_type": "code",
        "colab": {
          "base_uri": "https://localhost:8080/",
          "height": 34
        },
        "outputId": "40035190-7f80-4ece-b353-a12a4148396c"
      },
      "source": [
        "df['QtdeSolic'].max()\n"
      ],
      "execution_count": 14,
      "outputs": [
        {
          "output_type": "execute_result",
          "data": {
            "text/plain": [
              "4164"
            ]
          },
          "metadata": {
            "tags": []
          },
          "execution_count": 14
        }
      ]
    },
    {
      "cell_type": "markdown",
      "metadata": {
        "id": "Md1K4kjSkn68",
        "colab_type": "text"
      },
      "source": [
        "13. Qual é o menor número de solicitações `QtdeSolic` na Anatel."
      ]
    },
    {
      "cell_type": "code",
      "metadata": {
        "id": "mn4E4W4bkn68",
        "colab_type": "code",
        "colab": {
          "base_uri": "https://localhost:8080/",
          "height": 34
        },
        "outputId": "51ffa567-d2f2-4468-b2ef-fa1198b87a87"
      },
      "source": [
        "menor_QtdeSolic = df['QtdeSolic'].min()\n",
        "menor_QtdeSolic"
      ],
      "execution_count": 15,
      "outputs": [
        {
          "output_type": "execute_result",
          "data": {
            "text/plain": [
              "1"
            ]
          },
          "metadata": {
            "tags": []
          },
          "execution_count": 15
        }
      ]
    },
    {
      "cell_type": "markdown",
      "metadata": {
        "id": "Cbyc4uktkn6_",
        "colab_type": "text"
      },
      "source": [
        "14. Mostre todas as linhs iguais ao menor número de solicitações `QtdeSolic` na Anatel."
      ]
    },
    {
      "cell_type": "code",
      "metadata": {
        "id": "1oB1JDLBkn6_",
        "colab_type": "code",
        "colab": {
          "base_uri": "https://localhost:8080/",
          "height": 34
        },
        "outputId": "2bbbd850-52fe-4576-edf7-bfea43be2a05"
      },
      "source": [
        "qt_Solic = np.where(df['QtdeSolic'] == menor_QtdeSolic) \n",
        "len(qt_Solic[0])"
      ],
      "execution_count": 17,
      "outputs": [
        {
          "output_type": "execute_result",
          "data": {
            "text/plain": [
              "231120"
            ]
          },
          "metadata": {
            "tags": []
          },
          "execution_count": 17
        }
      ]
    },
    {
      "cell_type": "markdown",
      "metadata": {
        "id": "eUus7ZMhkn7E",
        "colab_type": "text"
      },
      "source": [
        "15. Mostre as contagens de solicitações `QtdeSolic` por tipo de serviço `Servico`."
      ]
    },
    {
      "cell_type": "code",
      "metadata": {
        "id": "5cW1zR4ekn7E",
        "colab_type": "code",
        "colab": {
          "base_uri": "https://localhost:8080/",
          "height": 374
        },
        "outputId": "0abdbe0d-fe39-4c06-ee32-0e3db94db098"
      },
      "source": [
        "contagem_QtdeSolic = df.groupby(['Servico'])['QtdeSolic'].sum()\n",
        "contagem_QtdeSolic"
      ],
      "execution_count": 18,
      "outputs": [
        {
          "output_type": "execute_result",
          "data": {
            "text/plain": [
              "Servico\n",
              "Banda Larga Fixa                                            348860\n",
              "Celular Pré-Pago                                            307646\n",
              "Celular Pós-Pago                                            812191\n",
              "Limitado Privado                                              1020\n",
              "Móvel Pessoal                                              1082677\n",
              "Outros                                                        2972\n",
              "Radioamador (PY)                                              2810\n",
              "Radiochamada (Paging)                                           25\n",
              "Radiodifusão (Rádio e TV)                                     6493\n",
              "Rádio do Cidadão (PX)                                         2963\n",
              "Serviço Móvel Aeronáutico                                      153\n",
              "Serviço Móvel Marítimo                                          20\n",
              "Serviço Telefônico Fixo Comutado - STFC                     532895\n",
              "Serviço de Comunicação Multimídia                           254742\n",
              "Serviço de Rede e Transporte de Telecomunicações - SRTT       2824\n",
              "Serviços da Anatel                                           46939\n",
              "TV por Assinatura                                           394184\n",
              "Telefone Fixo                                               514958\n",
              "Troncalizado (Trunking)                                       2286\n",
              "Name: QtdeSolic, dtype: int64"
            ]
          },
          "metadata": {
            "tags": []
          },
          "execution_count": 18
        }
      ]
    },
    {
      "cell_type": "markdown",
      "metadata": {
        "id": "80hJwjGWkn7G",
        "colab_type": "text"
      },
      "source": [
        "16. Ao longo dos anos mostre o número de solicitações por mês?"
      ]
    },
    {
      "cell_type": "code",
      "metadata": {
        "id": "pq17boEHkn7H",
        "colab_type": "code",
        "colab": {
          "base_uri": "https://localhost:8080/",
          "height": 238
        },
        "outputId": "75981fcd-9875-4b43-a2ff-fdba48e6327c"
      },
      "source": [
        "ano_mes = df.groupby(['Ano', 'Mes'])['QtdeSolic'].sum()\n",
        "ano_mes"
      ],
      "execution_count": 19,
      "outputs": [
        {
          "output_type": "execute_result",
          "data": {
            "text/plain": [
              "Ano   Mes\n",
              "2006  1       6234\n",
              "      2       5120\n",
              "      3       6762\n",
              "      4       5992\n",
              "      5       6736\n",
              "             ...  \n",
              "2019  5      36382\n",
              "      6      30281\n",
              "      7      37304\n",
              "      8      34418\n",
              "      9      32626\n",
              "Name: QtdeSolic, Length: 165, dtype: int64"
            ]
          },
          "metadata": {
            "tags": []
          },
          "execution_count": 19
        }
      ]
    },
    {
      "cell_type": "markdown",
      "metadata": {
        "id": "s09J4ixSkn7J",
        "colab_type": "text"
      },
      "source": [
        "17. Crie o vetor **reclamacoes** com todos os dados que cuja coluna `Tipo` seja igual a \"Reclamação\"."
      ]
    },
    {
      "cell_type": "code",
      "metadata": {
        "id": "EECsucd_kn7J",
        "colab_type": "code",
        "colab": {
          "base_uri": "https://localhost:8080/",
          "height": 34
        },
        "outputId": "e8699846-f11a-4e4c-b591-90ee204d2824"
      },
      "source": [
        "reclamacoes = np.where(df['Tipo'] == \"Reclamação\")[0]\n",
        "len(reclamacoes)"
      ],
      "execution_count": 20,
      "outputs": [
        {
          "output_type": "execute_result",
          "data": {
            "text/plain": [
              "477862"
            ]
          },
          "metadata": {
            "tags": []
          },
          "execution_count": 20
        }
      ]
    },
    {
      "cell_type": "markdown",
      "metadata": {
        "id": "CdkX0prxkn7L",
        "colab_type": "text"
      },
      "source": [
        "18. Mostre o número total de solictiações `QtdeSolic` de reclamações para cada tipo de serviço `Servico`"
      ]
    },
    {
      "cell_type": "code",
      "metadata": {
        "id": "BPJHWRoikn7M",
        "colab_type": "code",
        "colab": {
          "base_uri": "https://localhost:8080/",
          "height": 374
        },
        "outputId": "459e9b50-d1fe-4f6b-a0ca-608edc844bdf"
      },
      "source": [
        "total_QtdeSolic = df.where(df['Tipo'] == \"Reclamação\").groupby(['Servico']).sum()\n",
        "total_QtdeSolic.QtdeSolic"
      ],
      "execution_count": 21,
      "outputs": [
        {
          "output_type": "execute_result",
          "data": {
            "text/plain": [
              "Servico\n",
              "Banda Larga Fixa                                            348859.0\n",
              "Celular Pré-Pago                                            307646.0\n",
              "Celular Pós-Pago                                            812189.0\n",
              "Limitado Privado                                                83.0\n",
              "Móvel Pessoal                                              1068603.0\n",
              "Outros                                                        2230.0\n",
              "Radioamador (PY)                                               173.0\n",
              "Radiochamada (Paging)                                            1.0\n",
              "Radiodifusão (Rádio e TV)                                      203.0\n",
              "Rádio do Cidadão (PX)                                          133.0\n",
              "Serviço Móvel Aeronáutico                                        9.0\n",
              "Serviço Móvel Marítimo                                           3.0\n",
              "Serviço Telefônico Fixo Comutado - STFC                     526752.0\n",
              "Serviço de Comunicação Multimídia                           239967.0\n",
              "Serviço de Rede e Transporte de Telecomunicações - SRTT       2736.0\n",
              "Serviços da Anatel                                           24032.0\n",
              "TV por Assinatura                                           391773.0\n",
              "Telefone Fixo                                               514958.0\n",
              "Troncalizado (Trunking)                                       2229.0\n",
              "Name: QtdeSolic, dtype: float64"
            ]
          },
          "metadata": {
            "tags": []
          },
          "execution_count": 21
        }
      ]
    },
    {
      "cell_type": "markdown",
      "metadata": {
        "id": "VcxX1ae9kn7O",
        "colab_type": "text"
      },
      "source": [
        "19. Quais são os maiores ou maior motivo de solicitação de reclamações?"
      ]
    },
    {
      "cell_type": "code",
      "metadata": {
        "id": "9mGXIlYWkn7O",
        "colab_type": "code",
        "colab": {
          "base_uri": "https://localhost:8080/",
          "height": 34
        },
        "outputId": "74ddd8ff-1155-4f65-ada4-cfd6d3adf319"
      },
      "source": [
        "maior = total_QtdeSolic.QtdeSolic.max()\n",
        "maior"
      ],
      "execution_count": 22,
      "outputs": [
        {
          "output_type": "execute_result",
          "data": {
            "text/plain": [
              "1068603.0"
            ]
          },
          "metadata": {
            "tags": []
          },
          "execution_count": 22
        }
      ]
    },
    {
      "cell_type": "markdown",
      "metadata": {
        "id": "ajjbplU5kn7Q",
        "colab_type": "text"
      },
      "source": [
        "20. Faça um agrupamento de dados pela coluna `GrupoEconNorm`, mostrando um sumário estatístico da quantidade solicitações `QtdeSolic`."
      ]
    },
    {
      "cell_type": "code",
      "metadata": {
        "id": "Yej7OSYykn7R",
        "colab_type": "code",
        "colab": {
          "base_uri": "https://localhost:8080/",
          "height": 408
        },
        "outputId": "ca6669d3-9160-404e-dca7-42ded0ea0677"
      },
      "source": [
        "GrupoEconNorm = df.groupby(['GrupoEconNorm']).sum()\n",
        "\n",
        "GrupoEconNorm.QtdeSolic"
      ],
      "execution_count": 23,
      "outputs": [
        {
          "output_type": "execute_result",
          "data": {
            "text/plain": [
              "GrupoEconNorm\n",
              "ALGAR                  95407\n",
              "Anatel                 57950\n",
              "BLUE                    5020\n",
              "Brisanet                   5\n",
              "CABO TELECOM               1\n",
              "CLARO                 407880\n",
              "Correios Celular         292\n",
              "Datora                     3\n",
              "EMBRATEL                2909\n",
              "GVT                    38981\n",
              "HUGHES NET               542\n",
              "Intelig                  315\n",
              "NET                   257177\n",
              "NEXTEL                  6618\n",
              "NOSSA TV - BRASIL         12\n",
              "OI                   1832855\n",
              "Outros                 96430\n",
              "SERCOMTEL                 61\n",
              "SKY                   164339\n",
              "TIM                   696485\n",
              "VIVO                  653376\n",
              "Name: QtdeSolic, dtype: int64"
            ]
          },
          "metadata": {
            "tags": []
          },
          "execution_count": 23
        }
      ]
    }
  ]
}